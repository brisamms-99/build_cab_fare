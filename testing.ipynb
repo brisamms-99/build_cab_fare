{
 "cells": [
  {
   "cell_type": "markdown",
   "id": "ec081b39-74bd-4102-a65b-d1f22324be10",
   "metadata": {},
   "source": [
    "This is a markdown cell?"
   ]
  },
  {
   "cell_type": "code",
   "execution_count": 4,
   "id": "100faeab-452a-4960-ac5b-71d67882504f",
   "metadata": {},
   "outputs": [
    {
     "name": "stdout",
     "output_type": "stream",
     "text": [
      "active cell\n"
     ]
    }
   ],
   "source": [
    "print('active cell')"
   ]
  },
  {
   "cell_type": "code",
   "execution_count": null,
   "id": "f2afd0de-c880-4e80-a140-d9af73928ba9",
   "metadata": {},
   "outputs": [],
   "source": []
  }
 ],
 "metadata": {
  "kernelspec": {
   "display_name": "Python [conda env:base] *",
   "language": "python",
   "name": "conda-base-py"
  },
  "language_info": {
   "codemirror_mode": {
    "name": "ipython",
    "version": 3
   },
   "file_extension": ".py",
   "mimetype": "text/x-python",
   "name": "python",
   "nbconvert_exporter": "python",
   "pygments_lexer": "ipython3",
   "version": "3.13.5"
  }
 },
 "nbformat": 4,
 "nbformat_minor": 5
}
