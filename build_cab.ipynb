{
 "cells": [
  {
   "cell_type": "code",
   "execution_count": 8,
   "id": "9810f207-4740-453c-a6ea-535399dabd5c",
   "metadata": {},
   "outputs": [
    {
     "name": "stdout",
     "output_type": "stream",
     "text": [
      "Index(['Trip Start Timestamp', 'Trip End Timestamp', 'Trip Seconds',\n",
      "       'Trip Miles', 'Fare', 'Extras', 'Company', 'Pickup Centroid Latitude',\n",
      "       'Pickup Centroid Longitude', 'Dropoff Centroid Latitude',\n",
      "       'Dropoff Centroid Longitude'],\n",
      "      dtype='object')\n"
     ]
    }
   ],
   "source": [
    "import pandas as pd\n",
    "import numpy as np\n",
    "\n",
    "\n",
    "initial_data = pd.read_csv('Taxi_Trips.csv')\n",
    "#initial_data.head(10)\n",
    "\n",
    "cab_fare_df = initial_data.iloc[: ,[2,3,4,5,10,13,16,17,18,20,21]]\n",
    "print(cab_fare_df.columns)"
   ]
  },
  {
   "cell_type": "code",
   "execution_count": null,
   "id": "df2e8a54-13f9-4acd-9761-ad626c3d1b96",
   "metadata": {},
   "outputs": [],
   "source": []
  }
 ],
 "metadata": {
  "kernelspec": {
   "display_name": "Python [conda env:base] *",
   "language": "python",
   "name": "conda-base-py"
  },
  "language_info": {
   "codemirror_mode": {
    "name": "ipython",
    "version": 3
   },
   "file_extension": ".py",
   "mimetype": "text/x-python",
   "name": "python",
   "nbconvert_exporter": "python",
   "pygments_lexer": "ipython3",
   "version": "3.13.5"
  }
 },
 "nbformat": 4,
 "nbformat_minor": 5
}
