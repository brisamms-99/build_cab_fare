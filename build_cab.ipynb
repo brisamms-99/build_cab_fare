{
 "cells": [
  {
   "cell_type": "code",
   "execution_count": 1,
   "id": "9810f207-4740-453c-a6ea-535399dabd5c",
   "metadata": {},
   "outputs": [],
   "source": [
    "import pandas as pd\n",
    "import numpy as np\n",
    "import matplotlib.pyplot as plt\n",
    "import seaborn as sns\n",
    "from sklearn.model_selection import train_test_split\n",
    "\n",
    "#load initial csv\n",
    "initial_data = pd.read_csv('Taxi_Trips.csv')"
   ]
  },
  {
   "cell_type": "code",
   "execution_count": 2,
   "id": "c45f92bc-def2-4bc6-ae76-d483e40cccab",
   "metadata": {},
   "outputs": [],
   "source": [
    "#select desired rows\n",
    "cab_fare_df = initial_data.iloc[: ,[2,3,4,5,10,13,16,17,18,20,21]].copy()\n",
    "#print(cab_fare_df.columns)\n",
    "#print(cab_fare_df.dtypes)\n",
    "initial_rows = len(cab_fare_df)"
   ]
  },
  {
   "cell_type": "code",
   "execution_count": 3,
   "id": "e5ab8fb1-ab5e-4c55-93ef-084ec42ab01e",
   "metadata": {},
   "outputs": [
    {
     "name": "stdout",
     "output_type": "stream",
     "text": [
      "Trip Start Timestamp              0\n",
      "Trip End Timestamp                8\n",
      "Trip Seconds                    169\n",
      "Trip Miles                        6\n",
      "Fare                           2045\n",
      "Extras                         2045\n",
      "Company                           0\n",
      "Pickup Centroid Latitude      22966\n",
      "Pickup Centroid Longitude     22966\n",
      "Dropoff Centroid Latitude     79675\n",
      "Dropoff Centroid Longitude    79675\n",
      "dtype: int64\n",
      "Current length of dataframe: 865247\n"
     ]
    }
   ],
   "source": [
    "#drop duplicates\n",
    "cab_fare_df.drop_duplicates()\n",
    "\n",
    "#check null values\n",
    "print(cab_fare_df.isnull().sum())\n",
    "\n",
    "print(f\"Current length of dataframe: {len(cab_fare_df)}\")"
   ]
  },
  {
   "cell_type": "code",
   "execution_count": 4,
   "id": "11ea9f4a-e350-43c6-85cc-726540f5e8c2",
   "metadata": {},
   "outputs": [],
   "source": [
    "#handle blank latitudes and longitudes by filling in with mean\n",
    " \n",
    "cab_fare_df['Pickup Centroid Latitude'] = cab_fare_df['Pickup Centroid Latitude'].fillna(cab_fare_df['Pickup Centroid Latitude'].mean())\n",
    "\n",
    "cab_fare_df['Pickup Centroid Longitude'] = cab_fare_df['Pickup Centroid Longitude'].fillna(cab_fare_df['Pickup Centroid Longitude'].mean())\n",
    "cab_fare_df['Dropoff Centroid Latitude'] = cab_fare_df['Dropoff Centroid Latitude'].fillna(cab_fare_df['Dropoff Centroid Latitude'].mean())\n",
    "cab_fare_df['Dropoff Centroid Longitude'] = cab_fare_df['Dropoff Centroid Longitude'].fillna(cab_fare_df['Dropoff Centroid Longitude'].mean())\n"
   ]
  },
  {
   "cell_type": "code",
   "execution_count": 5,
   "id": "c44e71f2-1968-4496-8dff-5549d9d401e5",
   "metadata": {},
   "outputs": [
    {
     "name": "stdout",
     "output_type": "stream",
     "text": [
      "Trip Start Timestamp             0\n",
      "Trip End Timestamp               8\n",
      "Trip Seconds                   169\n",
      "Trip Miles                       6\n",
      "Fare                          2045\n",
      "Extras                        2045\n",
      "Company                          0\n",
      "Pickup Centroid Latitude         0\n",
      "Pickup Centroid Longitude        0\n",
      "Dropoff Centroid Latitude        0\n",
      "Dropoff Centroid Longitude       0\n",
      "dtype: int64\n",
      "Current length of dataframe: 863104\n"
     ]
    }
   ],
   "source": [
    "#drop rows with NA values\n",
    "print(cab_fare_df.isnull().sum())\n",
    "cab_fare_df = cab_fare_df.dropna()\n",
    "print(f\"Current length of dataframe: {len(cab_fare_df)}\")"
   ]
  },
  {
   "cell_type": "code",
   "execution_count": 6,
   "id": "71c07fa1-57b0-46d4-b17e-95a16ec190ef",
   "metadata": {},
   "outputs": [],
   "source": [
    "#Chicago coordinates: 41.8832° N, 87.6324° W\n",
    "#print(cab_fare_df['Pickup Centroid Latitude'].describe())\n",
    "#print(cab_fare_df['Pickup Centroid Longitude'].describe())\n",
    "#print(cab_fare_df['Dropoff Centroid Latitude'].describe())\n",
    "#print(cab_fare_df['Dropoff Centroid Longitude'].describe())\n",
    "#min and max of all coordinates are appropriate "
   ]
  },
  {
   "cell_type": "code",
   "execution_count": 7,
   "id": "df2e8a54-13f9-4acd-9761-ad626c3d1b96",
   "metadata": {},
   "outputs": [
    {
     "name": "stdout",
     "output_type": "stream",
     "text": [
      "count    863104.000000\n",
      "mean       1150.637693\n",
      "std        1585.144405\n",
      "min           0.000000\n",
      "25%         460.000000\n",
      "50%         900.000000\n",
      "75%        1591.000000\n",
      "max       86340.000000\n",
      "Name: Trip Seconds, dtype: float64\n",
      "count    863104.000000\n",
      "mean          6.561667\n",
      "std           8.210153\n",
      "min           0.000000\n",
      "25%           0.910000\n",
      "50%           3.070000\n",
      "75%          11.710000\n",
      "max        3093.470000\n",
      "Name: Trip Miles, dtype: float64\n",
      "count    863104.000000\n",
      "mean         22.035414\n",
      "std          22.482433\n",
      "min           0.000000\n",
      "25%           8.000000\n",
      "50%          15.750000\n",
      "75%          33.750000\n",
      "max        9999.750000\n",
      "Name: Fare, dtype: float64\n",
      "count    863104.000000\n",
      "mean          2.149265\n",
      "std          19.320798\n",
      "min           0.000000\n",
      "25%           0.000000\n",
      "50%           0.000000\n",
      "75%           3.000000\n",
      "max        5051.100000\n",
      "Name: Extras, dtype: float64\n",
      "Current length of dataframe: 863104\n"
     ]
    }
   ],
   "source": [
    "#view trip seconds, miles, fare, and extras\n",
    "\n",
    "print(cab_fare_df['Trip Seconds'].describe())\n",
    "print(cab_fare_df['Trip Miles'].describe())\n",
    "print(cab_fare_df['Fare'].describe())\n",
    "print(cab_fare_df['Extras'].describe())\n",
    "print(f\"Current length of dataframe: {len(cab_fare_df)}\")"
   ]
  },
  {
   "cell_type": "code",
   "execution_count": 8,
   "id": "ac48dd62-d091-41b4-b3f0-d1cdac25fcc6",
   "metadata": {},
   "outputs": [
    {
     "name": "stdout",
     "output_type": "stream",
     "text": [
      "Current length of dataframe: 767314\n"
     ]
    }
   ],
   "source": [
    "#filter erroneous entries for miles, seconds, fare\n",
    "\n",
    "cab_fare_df = cab_fare_df[(cab_fare_df['Trip Seconds']>60) & (cab_fare_df['Trip Miles']>0) & (cab_fare_df['Fare']>0)]\n",
    "print(f\"Current length of dataframe: {len(cab_fare_df)}\")\n"
   ]
  },
  {
   "cell_type": "code",
   "execution_count": 9,
   "id": "87a29faf-118f-4b03-bf32-02fa02209afb",
   "metadata": {},
   "outputs": [
    {
     "name": "stdout",
     "output_type": "stream",
     "text": [
      "Percent of Trip Seconds that are outliers: 2.3148%\n",
      "Percent of Trip Miles that are outliers: 0.7134%\n",
      "Current length of dataframe: 745357\n"
     ]
    }
   ],
   "source": [
    "#filter outliers for seconds and miles \n",
    "\n",
    "#define a function to return the low and high thresholds for outliers\n",
    "def find_outliers(df_column):\n",
    "    q1 = df_column.quantile(0.25)\n",
    "    q3 = df_column.quantile(0.75)\n",
    "    iqr = q3 - q1\n",
    "    low = float(q1 - (1.5*iqr))\n",
    "    high = float(q3 + (1.5*iqr))\n",
    "    return low, high\n",
    "\n",
    "#define a function to find the percentage of values in a column that are outliers\n",
    "def find_percent_outliers(df_column):\n",
    "    low, high = find_outliers(df_column)\n",
    "    prop_outliers = 1-(df_column.between(low, high).sum()/len(df_column))\n",
    "    percent_outlier = prop_outliers*100\n",
    "    return percent_outlier\n",
    "\n",
    "print(f\"Percent of Trip Seconds that are outliers: {round(find_percent_outliers(cab_fare_df['Trip Seconds']),4)}%\")\n",
    "print(f\"Percent of Trip Miles that are outliers: {round(find_percent_outliers(cab_fare_df['Trip Miles']),4)}%\")\n",
    "\n",
    "#since %outliers is so low, we can filter out outliers for seconds and miles\n",
    "s_low, s_high = find_outliers(cab_fare_df['Trip Seconds'])\n",
    "cab_fare_df = cab_fare_df[cab_fare_df['Trip Seconds'].between(s_low, s_high)]\n",
    "\n",
    "m_low, m_high = find_outliers(cab_fare_df['Trip Miles'])\n",
    "cab_fare_df = cab_fare_df[cab_fare_df['Trip Miles'].between(m_low, m_high)]\n",
    "\n",
    "print(f\"Current length of dataframe: {len(cab_fare_df)}\")\n",
    "    "
   ]
  },
  {
   "cell_type": "code",
   "execution_count": 10,
   "id": "a6580f87-8bb9-4d2a-8f4b-601f9f14d9d6",
   "metadata": {},
   "outputs": [
    {
     "name": "stdout",
     "output_type": "stream",
     "text": [
      "Initial number of rows: 865247\n",
      "Final number of rows after cleaning: 745357\n",
      "Percent of dataset dropped: 13.86%\n"
     ]
    }
   ],
   "source": [
    "#calculating % dropped\n",
    "cleaned_rows = len(cab_fare_df)\n",
    "dropped_rows = initial_rows - cleaned_rows\n",
    "percent_dropped = round(dropped_rows/initial_rows,4)*100\n",
    "print(f\"Initial number of rows: {initial_rows}\")\n",
    "print(f\"Final number of rows after cleaning: {cleaned_rows}\")\n",
    "print(f\"Percent of dataset dropped: {percent_dropped}%\")"
   ]
  },
  {
   "cell_type": "code",
   "execution_count": 11,
   "id": "068c9d0e-193f-4fe3-b99d-b4c3ad71562a",
   "metadata": {},
   "outputs": [],
   "source": [
    "#sum fare and extras columns \n",
    "cab_fare_df['Trip Cost'] = cab_fare_df['Fare'] + cab_fare_df['Extras']"
   ]
  },
  {
   "cell_type": "code",
   "execution_count": 12,
   "id": "c7b36f4d-2ac1-4e51-a569-3ac9561d7646",
   "metadata": {},
   "outputs": [],
   "source": [
    "#convert timestamp columns\n",
    "\n",
    "cab_fare_df['Trip Start Timestamp'] = pd.to_datetime(cab_fare_df['Trip Start Timestamp'], format=\"%m/%d/%Y %I:%M:%S %p\")\n",
    "#cab_fare_df['Trip End Timestamp'] = pd.to_datetime(cab_fare_df['Trip End Timestamp'])\n",
    "\n",
    "#create month column \n",
    "cab_fare_df['Month'] = cab_fare_df['Trip Start Timestamp'].dt.month\n",
    "\n",
    "#create hour column\n",
    "cab_fare_df['Hour'] = cab_fare_df['Trip Start Timestamp'].dt.hour \n"
   ]
  },
  {
   "cell_type": "code",
   "execution_count": null,
   "id": "bf3289e1-e83e-443a-9f71-0962300d2e6b",
   "metadata": {},
   "outputs": [],
   "source": []
  }
 ],
 "metadata": {
  "kernelspec": {
   "display_name": "Python [conda env:base] *",
   "language": "python",
   "name": "conda-base-py"
  },
  "language_info": {
   "codemirror_mode": {
    "name": "ipython",
    "version": 3
   },
   "file_extension": ".py",
   "mimetype": "text/x-python",
   "name": "python",
   "nbconvert_exporter": "python",
   "pygments_lexer": "ipython3",
   "version": "3.13.5"
  }
 },
 "nbformat": 4,
 "nbformat_minor": 5
}
