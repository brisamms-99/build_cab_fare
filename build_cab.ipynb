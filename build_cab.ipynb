{
 "cells": [
  {
   "cell_type": "code",
   "execution_count": 29,
   "id": "9810f207-4740-453c-a6ea-535399dabd5c",
   "metadata": {},
   "outputs": [
    {
     "name": "stdout",
     "output_type": "stream",
     "text": [
      "777204\n"
     ]
    }
   ],
   "source": [
    "import pandas as pd\n",
    "import numpy as np\n",
    "import matplotlib.pyplot as plt\n",
    "import seaborn as sns\n",
    "from sklearn.model_selection import train_test_split\n",
    "\n",
    "#load initial csv\n",
    "initial_data = pd.read_csv('Taxi_Trips.csv')\n",
    "\n",
    "\n",
    "#select desired rows\n",
    "cab_fare_df = initial_data.iloc[: ,[2,3,4,5,10,13,16,17,18,20,21]]\n",
    "#print(cab_fare_df.columns)\n",
    "\n",
    "#print(cab_fare_df.dtypes)\n",
    "#print(cab_fare_df.describe)\n",
    "\n",
    "#drop rows with NA values\n",
    "cab_fare_df = cab_fare_df.dropna()\n",
    "\n",
    "#drop duplicates\n",
    "cab_fare_df.drop_duplicates(inplace = True)\n",
    "\n",
    "#print(cab_fare_df.head(5))\n"
   ]
  },
  {
   "cell_type": "code",
   "execution_count": 30,
   "id": "df2e8a54-13f9-4acd-9761-ad626c3d1b96",
   "metadata": {},
   "outputs": [],
   "source": [
    "#filtering out problematic rows\n",
    "\n",
    "#filter latitudes outside of continental US\n",
    "cab_fare_df = cab_fare_df[(cab_fare_df.iloc[:, 7].between(25.0, 49.0)) & (cab_fare_df.iloc[:, 9].between(25.0, 49.0))]\n",
    "\n",
    "#filter longitudes outside of continental US\n",
    "cab_fare_df = cab_fare_df[(cab_fare_df.iloc[:, 8].between(-125, -67)) & (cab_fare_df.iloc[:, 10].between(-125, -67))]\n",
    "\n",
    "#filter miles\n",
    "cab_fare_df = cab_fare_df[cab_fare_df['Trip Seconds'].between(120.0, 21600.0)]\n",
    "\n",
    "#filter seconds\n",
    "cab_fare_df = cab_fare_df[cab_fare_df['Trip Miles'].between(1.0, 1000.0)]\n",
    "#print(cab_fare_df.head(5))"
   ]
  },
  {
   "cell_type": "code",
   "execution_count": 31,
   "id": "068c9d0e-193f-4fe3-b99d-b4c3ad71562a",
   "metadata": {},
   "outputs": [],
   "source": [
    "#sum fare and extras columns \n",
    "cab_fare_df['Trip Cost'] = cab_fare_df['Fare'] + cab_fare_df['Extras']"
   ]
  },
  {
   "cell_type": "code",
   "execution_count": 33,
   "id": "c7b36f4d-2ac1-4e51-a569-3ac9561d7646",
   "metadata": {},
   "outputs": [
    {
     "name": "stdout",
     "output_type": "stream",
     "text": [
      "  Trip Start Timestamp      Trip End Timestamp  Trip Seconds  Trip Miles  \\\n",
      "1           2024-03-01  03/01/2024 12:15:00 AM         900.0        3.00   \n",
      "3           2024-03-01  03/01/2024 12:30:00 AM        1770.0       13.36   \n",
      "4           2024-03-01  03/01/2024 12:15:00 AM         849.0        6.13   \n",
      "6           2024-03-01  03/01/2024 12:15:00 AM        1416.0       11.17   \n",
      "7           2024-03-01  03/01/2024 12:15:00 AM        1553.0       13.21   \n",
      "\n",
      "    Fare  Extras                    Company  Pickup Centroid Latitude  \\\n",
      "1  12.00     0.0  Taxi Affiliation Services                 41.901207   \n",
      "3  34.75     4.0                   Sun Taxi                 41.980264   \n",
      "4  18.51     0.0                5 Star Taxi                 41.899602   \n",
      "6  29.75     0.0                5 Star Taxi                 41.874005   \n",
      "7  34.00     4.0               City Service                 41.980264   \n",
      "\n",
      "   Pickup Centroid Longitude  Dropoff Centroid Latitude  \\\n",
      "1                 -87.676356                  41.899602   \n",
      "3                 -87.913625                  41.965812   \n",
      "4                 -87.633308                  41.965812   \n",
      "6                 -87.663518                  41.874005   \n",
      "7                 -87.913625                  41.947792   \n",
      "\n",
      "   Dropoff Centroid Longitude  Trip Cost  Month  Hour  \n",
      "1                  -87.633308      12.00      3     0  \n",
      "3                  -87.655879      38.75      3     0  \n",
      "4                  -87.655879      18.51      3     0  \n",
      "6                  -87.663518      29.75      3     0  \n",
      "7                  -87.683835      38.00      3     0  \n",
      "<bound method DataFrame.count of        Trip Start Timestamp      Trip End Timestamp  Trip Seconds  Trip Miles  \\\n",
      "1                2024-03-01  03/01/2024 12:15:00 AM         900.0        3.00   \n",
      "3                2024-03-01  03/01/2024 12:30:00 AM        1770.0       13.36   \n",
      "4                2024-03-01  03/01/2024 12:15:00 AM         849.0        6.13   \n",
      "6                2024-03-01  03/01/2024 12:15:00 AM        1416.0       11.17   \n",
      "7                2024-03-01  03/01/2024 12:15:00 AM        1553.0       13.21   \n",
      "...                     ...                     ...           ...         ...   \n",
      "865242           2024-01-01  01/01/2024 12:00:00 AM         347.0        1.17   \n",
      "865243           2024-01-01  01/01/2024 12:15:00 AM        1193.0       10.58   \n",
      "865244           2024-01-01  01/01/2024 12:45:00 AM        3059.0       17.44   \n",
      "865245           2024-01-01  01/01/2024 12:30:00 AM        1369.0        3.07   \n",
      "865246           2024-01-01  01/01/2024 12:15:00 AM         648.0        1.49   \n",
      "\n",
      "         Fare  Extras                    Company  Pickup Centroid Latitude  \\\n",
      "1       12.00     0.0  Taxi Affiliation Services                 41.901207   \n",
      "3       34.75     4.0                   Sun Taxi                 41.980264   \n",
      "4       18.51     0.0                5 Star Taxi                 41.899602   \n",
      "6       29.75     0.0                5 Star Taxi                 41.874005   \n",
      "7       34.00     4.0               City Service                 41.980264   \n",
      "...       ...     ...                        ...                       ...   \n",
      "865242   6.25     0.0       Chicago Independents                 41.944227   \n",
      "865243  28.00     6.0                  Flash Cab                 41.792592   \n",
      "865244  50.75     4.0               City Service                 41.979071   \n",
      "865245  14.50     1.0           Medallion Leasin                 41.899602   \n",
      "865246   7.75     1.0           Medallion Leasin                 41.899602   \n",
      "\n",
      "        Pickup Centroid Longitude  Dropoff Centroid Latitude  \\\n",
      "1                      -87.676356                  41.899602   \n",
      "3                      -87.913625                  41.965812   \n",
      "4                      -87.633308                  41.965812   \n",
      "6                      -87.663518                  41.874005   \n",
      "7                      -87.913625                  41.947792   \n",
      "...                           ...                        ...   \n",
      "865242                 -87.655998                  41.922686   \n",
      "865243                 -87.769615                  41.874005   \n",
      "865244                 -87.903040                  41.884987   \n",
      "865245                 -87.633308                  41.901207   \n",
      "865246                 -87.633308                  41.874005   \n",
      "\n",
      "        Dropoff Centroid Longitude  Trip Cost  Month  Hour  \n",
      "1                       -87.633308      12.00      3     0  \n",
      "3                       -87.655879      38.75      3     0  \n",
      "4                       -87.655879      18.51      3     0  \n",
      "6                       -87.663518      29.75      3     0  \n",
      "7                       -87.683835      38.00      3     0  \n",
      "...                            ...        ...    ...   ...  \n",
      "865242                  -87.649489       6.25      1     0  \n",
      "865243                  -87.663518      34.00      1     0  \n",
      "865244                  -87.620993      54.75      1     0  \n",
      "865245                  -87.676356      15.50      1     0  \n",
      "865246                  -87.663518       8.75      1     0  \n",
      "\n",
      "[565984 rows x 14 columns]>\n"
     ]
    }
   ],
   "source": [
    "#convert timestamp columns\n",
    "\n",
    "cab_fare_df['Trip Start Timestamp'] = pd.to_datetime(cab_fare_df['Trip Start Timestamp'], format=\"%m/%d/%Y %I:%M:%S %p\")\n",
    "#cab_fare_df['Trip End Timestamp'] = pd.to_datetime(cab_fare_df['Trip End Timestamp'])\n",
    "\n",
    "#create month column \n",
    "cab_fare_df['Month'] = cab_fare_df['Trip Start Timestamp'].dt.month\n",
    "\n",
    "#create hour column\n",
    "cab_fare_df['Hour'] = cab_fare_df['Trip Start Timestamp'].dt.hour \n",
    "\n",
    "print(cab_fare_df.head(5))\n",
    "print(cab_fare_df.count)"
   ]
  },
  {
   "cell_type": "code",
   "execution_count": null,
   "id": "bf3289e1-e83e-443a-9f71-0962300d2e6b",
   "metadata": {},
   "outputs": [],
   "source": []
  }
 ],
 "metadata": {
  "kernelspec": {
   "display_name": "Python [conda env:base] *",
   "language": "python",
   "name": "conda-base-py"
  },
  "language_info": {
   "codemirror_mode": {
    "name": "ipython",
    "version": 3
   },
   "file_extension": ".py",
   "mimetype": "text/x-python",
   "name": "python",
   "nbconvert_exporter": "python",
   "pygments_lexer": "ipython3",
   "version": "3.13.5"
  }
 },
 "nbformat": 4,
 "nbformat_minor": 5
}
