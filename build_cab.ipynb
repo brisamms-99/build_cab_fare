{
 "cells": [
  {
   "cell_type": "code",
   "execution_count": 56,
   "id": "9810f207-4740-453c-a6ea-535399dabd5c",
   "metadata": {},
   "outputs": [],
   "source": [
    "import pandas as pd\n",
    "import numpy as np\n",
    "import matplotlib.pyplot as plt\n",
    "import seaborn as sns\n",
    "from sklearn.model_selection import train_test_split\n",
    "\n",
    "#load initial csv\n",
    "initial_data = pd.read_csv('Taxi_Trips.csv')"
   ]
  },
  {
   "cell_type": "code",
   "execution_count": 57,
   "id": "c45f92bc-def2-4bc6-ae76-d483e40cccab",
   "metadata": {},
   "outputs": [],
   "source": [
    "#select desired rows\n",
    "cab_fare_df = initial_data.iloc[: ,[2,3,4,5,10,13,16,17,18,20,21]].copy()\n",
    "#print(cab_fare_df.columns)\n",
    "#print(cab_fare_df.dtypes)\n",
    "initial_rows = len(cab_fare_df)"
   ]
  },
  {
   "cell_type": "code",
   "execution_count": 58,
   "id": "e5ab8fb1-ab5e-4c55-93ef-084ec42ab01e",
   "metadata": {},
   "outputs": [
    {
     "name": "stdout",
     "output_type": "stream",
     "text": [
      "Trip Start Timestamp              0\n",
      "Trip End Timestamp                8\n",
      "Trip Seconds                    169\n",
      "Trip Miles                        6\n",
      "Fare                           2045\n",
      "Extras                         2045\n",
      "Company                           0\n",
      "Pickup Centroid Latitude      22966\n",
      "Pickup Centroid Longitude     22966\n",
      "Dropoff Centroid Latitude     79675\n",
      "Dropoff Centroid Longitude    79675\n",
      "dtype: int64\n"
     ]
    }
   ],
   "source": [
    "#drop duplicates\n",
    "cab_fare_df.drop_duplicates()\n",
    "\n",
    "#check null values\n",
    "print(cab_fare_df.isnull().sum())\n"
   ]
  },
  {
   "cell_type": "code",
   "execution_count": 59,
   "id": "11ea9f4a-e350-43c6-85cc-726540f5e8c2",
   "metadata": {},
   "outputs": [],
   "source": [
    "#handle blank latitudes and longitudes\n",
    " \n",
    "cab_fare_df['Pickup Centroid Latitude'] = cab_fare_df['Pickup Centroid Latitude'].fillna(cab_fare_df['Pickup Centroid Latitude'].mean())\n",
    "\n",
    "cab_fare_df['Pickup Centroid Longitude'] = cab_fare_df['Pickup Centroid Longitude'].fillna(cab_fare_df['Pickup Centroid Longitude'].mean())\n",
    "cab_fare_df['Dropoff Centroid Latitude'] = cab_fare_df['Dropoff Centroid Latitude'].fillna(cab_fare_df['Dropoff Centroid Latitude'].mean())\n",
    "cab_fare_df['Dropoff Centroid Longitude'] = cab_fare_df['Dropoff Centroid Longitude'].fillna(cab_fare_df['Dropoff Centroid Longitude'].mean())\n"
   ]
  },
  {
   "cell_type": "code",
   "execution_count": 66,
   "id": "c44e71f2-1968-4496-8dff-5549d9d401e5",
   "metadata": {},
   "outputs": [
    {
     "name": "stdout",
     "output_type": "stream",
     "text": [
      "Trip Start Timestamp             0\n",
      "Trip End Timestamp               8\n",
      "Trip Seconds                   169\n",
      "Trip Miles                       6\n",
      "Fare                          2045\n",
      "Extras                        2045\n",
      "Company                          0\n",
      "Pickup Centroid Latitude         0\n",
      "Pickup Centroid Longitude        0\n",
      "Dropoff Centroid Latitude        0\n",
      "Dropoff Centroid Longitude       0\n",
      "Trip Cost                     2045\n",
      "Month                            0\n",
      "Hour                             0\n",
      "dtype: int64\n"
     ]
    }
   ],
   "source": [
    "#drop rows with NA values\n",
    "print(cab_fare_df.isnull().sum())\n",
    "cab_fare_df = cab_fare_df.dropna()"
   ]
  },
  {
   "cell_type": "code",
   "execution_count": 61,
   "id": "71c07fa1-57b0-46d4-b17e-95a16ec190ef",
   "metadata": {},
   "outputs": [
    {
     "name": "stdout",
     "output_type": "stream",
     "text": [
      "count    865247.000000\n",
      "mean         41.902214\n",
      "std           0.065541\n",
      "min          41.660136\n",
      "25%          41.878866\n",
      "50%          41.899156\n",
      "75%          41.979071\n",
      "max          42.021224\n",
      "Name: Pickup Centroid Latitude, dtype: float64\n",
      "count    865247.000000\n",
      "mean        -87.704695\n",
      "std           0.113981\n",
      "min         -87.913625\n",
      "25%         -87.756047\n",
      "50%         -87.642808\n",
      "75%         -87.626211\n",
      "max         -87.534903\n",
      "Name: Pickup Centroid Longitude, dtype: float64\n",
      "count    865247.000000\n",
      "mean         41.892124\n",
      "std           0.056692\n",
      "min          41.650222\n",
      "25%          41.878866\n",
      "50%          41.892124\n",
      "75%          41.914616\n",
      "max          42.021224\n",
      "Name: Dropoff Centroid Latitude, dtype: float64\n",
      "count    865247.000000\n",
      "mean        -87.659592\n",
      "std           0.064780\n",
      "min         -87.913625\n",
      "25%         -87.663416\n",
      "50%         -87.642649\n",
      "75%         -87.626211\n",
      "max         -87.534903\n",
      "Name: Dropoff Centroid Longitude, dtype: float64\n"
     ]
    }
   ],
   "source": [
    "#Chicago coordinates: 41.8832° N, 87.6324° W\n",
    "print(cab_fare_df['Pickup Centroid Latitude'].describe())\n",
    "print(cab_fare_df['Pickup Centroid Longitude'].describe())\n",
    "print(cab_fare_df['Dropoff Centroid Latitude'].describe())\n",
    "print(cab_fare_df['Dropoff Centroid Longitude'].describe())\n",
    "#min and max of all coordinates are appropriate "
   ]
  },
  {
   "cell_type": "code",
   "execution_count": 62,
   "id": "df2e8a54-13f9-4acd-9761-ad626c3d1b96",
   "metadata": {},
   "outputs": [],
   "source": [
    "#filtering out problematic rows\n",
    "\n",
    "#filter seconds\n",
    "#print(cab_fare_df['Trip Seconds'].describe())\n",
    "#cab_fare_df = cab_fare_df[cab_fare_df['Trip Seconds'].between(120.0, 21600.0)]\n",
    "\n",
    "#filter miles\n",
    "#cab_fare_df = cab_fare_df[cab_fare_df['Trip Miles'].between(1.0, 100.0)]\n"
   ]
  },
  {
   "cell_type": "code",
   "execution_count": 71,
   "id": "a6580f87-8bb9-4d2a-8f4b-601f9f14d9d6",
   "metadata": {},
   "outputs": [
    {
     "name": "stdout",
     "output_type": "stream",
     "text": [
      "Initial number of rows: 865247\n",
      "Final number of rows after cleaning: 863104\n",
      "Percent of dataset dropped: 0.25%\n"
     ]
    }
   ],
   "source": [
    "#calculating % dropped\n",
    "cleaned_rows = len(cab_fare_df)\n",
    "dropped_rows = initial_rows - cleaned_rows\n",
    "percent_dropped = round(dropped_rows/initial_rows,4)*100\n",
    "print(f\"Initial number of rows: {initial_rows}\")\n",
    "print(f\"Final number of rows after cleaning: {cleaned_rows}\")\n",
    "print(f\"Percent of dataset dropped: {percent_dropped}%\")"
   ]
  },
  {
   "cell_type": "code",
   "execution_count": 64,
   "id": "068c9d0e-193f-4fe3-b99d-b4c3ad71562a",
   "metadata": {},
   "outputs": [],
   "source": [
    "#sum fare and extras columns \n",
    "cab_fare_df['Trip Cost'] = cab_fare_df['Fare'] + cab_fare_df['Extras']"
   ]
  },
  {
   "cell_type": "code",
   "execution_count": 65,
   "id": "c7b36f4d-2ac1-4e51-a569-3ac9561d7646",
   "metadata": {},
   "outputs": [],
   "source": [
    "#convert timestamp columns\n",
    "\n",
    "cab_fare_df['Trip Start Timestamp'] = pd.to_datetime(cab_fare_df['Trip Start Timestamp'], format=\"%m/%d/%Y %I:%M:%S %p\")\n",
    "#cab_fare_df['Trip End Timestamp'] = pd.to_datetime(cab_fare_df['Trip End Timestamp'])\n",
    "\n",
    "#create month column \n",
    "cab_fare_df['Month'] = cab_fare_df['Trip Start Timestamp'].dt.month\n",
    "\n",
    "#create hour column\n",
    "cab_fare_df['Hour'] = cab_fare_df['Trip Start Timestamp'].dt.hour \n"
   ]
  },
  {
   "cell_type": "code",
   "execution_count": null,
   "id": "bf3289e1-e83e-443a-9f71-0962300d2e6b",
   "metadata": {},
   "outputs": [],
   "source": []
  }
 ],
 "metadata": {
  "kernelspec": {
   "display_name": "Python [conda env:base] *",
   "language": "python",
   "name": "conda-base-py"
  },
  "language_info": {
   "codemirror_mode": {
    "name": "ipython",
    "version": 3
   },
   "file_extension": ".py",
   "mimetype": "text/x-python",
   "name": "python",
   "nbconvert_exporter": "python",
   "pygments_lexer": "ipython3",
   "version": "3.13.5"
  }
 },
 "nbformat": 4,
 "nbformat_minor": 5
}
