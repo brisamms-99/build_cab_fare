{
 "cells": [
  {
   "cell_type": "code",
   "execution_count": 1,
   "id": "9810f207-4740-453c-a6ea-535399dabd5c",
   "metadata": {},
   "outputs": [],
   "source": [
    "import pandas as pd\n",
    "import numpy as np\n",
    "import matplotlib.pyplot as plt\n",
    "import seaborn as sns\n",
    "from sklearn.model_selection import train_test_split\n",
    "import plotly.express as px\n",
    "import plotly.graph_objects as go\n",
    "from plotly.subplots import make_subplots\n",
    "import plotly.io as pio\n"
   ]
  },
  {
   "cell_type": "code",
   "execution_count": 2,
   "id": "33940364-4ed9-4963-aab3-059765cc19c9",
   "metadata": {},
   "outputs": [
    {
     "name": "stdout",
     "output_type": "stream",
     "text": [
      "Columns in initial dataframe\n",
      "Index(['Trip ID', 'Taxi ID', 'Trip Start Timestamp', 'Trip End Timestamp',\n",
      "       'Trip Seconds', 'Trip Miles', 'Pickup Census Tract',\n",
      "       'Dropoff Census Tract', 'Pickup Community Area',\n",
      "       'Dropoff Community Area', 'Fare', 'Tips', 'Tolls', 'Extras',\n",
      "       'Trip Total', 'Payment Type', 'Company', 'Pickup Centroid Latitude',\n",
      "       'Pickup Centroid Longitude', 'Pickup Centroid Location',\n",
      "       'Dropoff Centroid Latitude', 'Dropoff Centroid Longitude',\n",
      "       'Dropoff Centroid  Location'],\n",
      "      dtype='object')\n"
     ]
    }
   ],
   "source": [
    "#load initial csv\n",
    "initial_data = pd.read_csv('Taxi_Trips.csv')\n",
    "\n",
    "#show columns in initial dataset\n",
    "print('Columns in initial dataframe')\n",
    "print(initial_data.columns)"
   ]
  },
  {
   "cell_type": "code",
   "execution_count": 3,
   "id": "c45f92bc-def2-4bc6-ae76-d483e40cccab",
   "metadata": {},
   "outputs": [
    {
     "name": "stdout",
     "output_type": "stream",
     "text": [
      "Columns in new cab fare dataframe\n",
      "Index(['Trip Start Timestamp', 'Trip End Timestamp', 'Trip Seconds',\n",
      "       'Trip Miles', 'Fare', 'Extras', 'Company', 'Pickup Centroid Latitude',\n",
      "       'Pickup Centroid Longitude', 'Dropoff Centroid Latitude',\n",
      "       'Dropoff Centroid Longitude'],\n",
      "      dtype='object')\n",
      "Initial length of dataframe: 865247\n"
     ]
    }
   ],
   "source": [
    "#select desired rows\n",
    "#Trip Start Timestamp, Trip End Timestamp, Trip Seconds, Trip Miles, Fare, Extras\n",
    "#Company, Pickup Centroid Latitude, Pickup Centroid Longitude, Dropoff Centroid Latitude, Dropoff Centroid Longitude \n",
    "\n",
    "cab_fare_df = initial_data.iloc[: ,[2,3,4,5,10,13,16,17,18,20,21]].copy()\n",
    "print('Columns in new cab fare dataframe')\n",
    "print(cab_fare_df.columns)\n",
    "#print(cab_fare_df.dtypes)\n",
    "initial_rows = len(cab_fare_df)\n",
    "print(f\"Initial length of dataframe: {initial_rows}\")"
   ]
  },
  {
   "cell_type": "code",
   "execution_count": 4,
   "id": "e5ab8fb1-ab5e-4c55-93ef-084ec42ab01e",
   "metadata": {},
   "outputs": [
    {
     "name": "stdout",
     "output_type": "stream",
     "text": [
      "Length of dataframe after dropping duplicates: 865247\n",
      "Null values in columns\n",
      "Trip Start Timestamp              0\n",
      "Trip End Timestamp                8\n",
      "Trip Seconds                    169\n",
      "Trip Miles                        6\n",
      "Fare                           2045\n",
      "Extras                         2045\n",
      "Company                           0\n",
      "Pickup Centroid Latitude      22966\n",
      "Pickup Centroid Longitude     22966\n",
      "Dropoff Centroid Latitude     79675\n",
      "Dropoff Centroid Longitude    79675\n",
      "dtype: int64\n"
     ]
    }
   ],
   "source": [
    "#drop duplicates\n",
    "cab_fare_df.drop_duplicates()\n",
    "\n",
    "print(f\"Length of dataframe after dropping duplicates: {len(cab_fare_df)}\")\n",
    "\n",
    "#check null values\n",
    "print('Null values in columns')\n",
    "print(cab_fare_df.isnull().sum())\n"
   ]
  },
  {
   "cell_type": "code",
   "execution_count": 5,
   "id": "11ea9f4a-e350-43c6-85cc-726540f5e8c2",
   "metadata": {},
   "outputs": [],
   "source": [
    "#handle blank latitudes and longitudes by filling in with mean\n",
    " \n",
    "cab_fare_df['Pickup Centroid Latitude'] = cab_fare_df['Pickup Centroid Latitude'].fillna(cab_fare_df['Pickup Centroid Latitude'].mean())\n",
    "\n",
    "cab_fare_df['Pickup Centroid Longitude'] = cab_fare_df['Pickup Centroid Longitude'].fillna(cab_fare_df['Pickup Centroid Longitude'].mean())\n",
    "cab_fare_df['Dropoff Centroid Latitude'] = cab_fare_df['Dropoff Centroid Latitude'].fillna(cab_fare_df['Dropoff Centroid Latitude'].mean())\n",
    "cab_fare_df['Dropoff Centroid Longitude'] = cab_fare_df['Dropoff Centroid Longitude'].fillna(cab_fare_df['Dropoff Centroid Longitude'].mean())\n"
   ]
  },
  {
   "cell_type": "code",
   "execution_count": 6,
   "id": "c44e71f2-1968-4496-8dff-5549d9d401e5",
   "metadata": {},
   "outputs": [
    {
     "name": "stdout",
     "output_type": "stream",
     "text": [
      "Columns still containing null values\n",
      "Trip Start Timestamp             0\n",
      "Trip End Timestamp               8\n",
      "Trip Seconds                   169\n",
      "Trip Miles                       6\n",
      "Fare                          2045\n",
      "Extras                        2045\n",
      "Company                          0\n",
      "Pickup Centroid Latitude         0\n",
      "Pickup Centroid Longitude        0\n",
      "Dropoff Centroid Latitude        0\n",
      "Dropoff Centroid Longitude       0\n",
      "dtype: int64\n",
      "Length of dataframe after dropping NAs: 863104\n"
     ]
    }
   ],
   "source": [
    "#drop rows with NA values\n",
    "print('Columns still containing null values')\n",
    "print(cab_fare_df.isnull().sum())\n",
    "cab_fare_df = cab_fare_df.dropna()\n",
    "print(f\"Length of dataframe after dropping NAs: {len(cab_fare_df)}\")"
   ]
  },
  {
   "cell_type": "code",
   "execution_count": 7,
   "id": "71c07fa1-57b0-46d4-b17e-95a16ec190ef",
   "metadata": {},
   "outputs": [
    {
     "name": "stdout",
     "output_type": "stream",
     "text": [
      "count    863104.000000\n",
      "mean         41.902210\n",
      "std           0.065553\n",
      "min          41.660136\n",
      "25%          41.878866\n",
      "50%          41.899156\n",
      "75%          41.979071\n",
      "max          42.021224\n",
      "Name: Pickup Centroid Latitude, dtype: float64\n",
      "count    863104.000000\n",
      "mean        -87.704675\n",
      "std           0.113971\n",
      "min         -87.913625\n",
      "25%         -87.756047\n",
      "50%         -87.642808\n",
      "75%         -87.626211\n",
      "max         -87.534903\n",
      "Name: Pickup Centroid Longitude, dtype: float64\n",
      "count    863104.000000\n",
      "mean         41.892118\n",
      "std           0.056696\n",
      "min          41.650222\n",
      "25%          41.878866\n",
      "50%          41.892124\n",
      "75%          41.914616\n",
      "max          42.021224\n",
      "Name: Dropoff Centroid Latitude, dtype: float64\n",
      "count    863104.000000\n",
      "mean        -87.659563\n",
      "std           0.064738\n",
      "min         -87.913625\n",
      "25%         -87.663416\n",
      "50%         -87.642649\n",
      "75%         -87.626211\n",
      "max         -87.534903\n",
      "Name: Dropoff Centroid Longitude, dtype: float64\n"
     ]
    }
   ],
   "source": [
    "#Chicago coordinates: 41.8832° N, 87.6324° W\n",
    "print(cab_fare_df['Pickup Centroid Latitude'].describe())\n",
    "print(cab_fare_df['Pickup Centroid Longitude'].describe())\n",
    "print(cab_fare_df['Dropoff Centroid Latitude'].describe())\n",
    "print(cab_fare_df['Dropoff Centroid Longitude'].describe())\n",
    "#min and max of all coordinates are appropriate "
   ]
  },
  {
   "cell_type": "markdown",
   "id": "c7727860-e1cf-4cc2-b7f1-ca84dcaf3cd9",
   "metadata": {},
   "source": [
    "All of the dropoff and pickup coordinates are in a reasonable range. There is no need to drop any coordinates."
   ]
  },
  {
   "cell_type": "code",
   "execution_count": null,
   "id": "df2e8a54-13f9-4acd-9761-ad626c3d1b96",
   "metadata": {},
   "outputs": [],
   "source": [
    "#view trip seconds, miles, fare, and extras\n",
    "\n",
    "print(cab_fare_df['Trip Seconds'].describe())\n",
    "print(cab_fare_df['Trip Miles'].describe())\n",
    "print(cab_fare_df['Fare'].describe())\n",
    "print(cab_fare_df['Extras'].describe())\n",
    "print(f\"Current length of dataframe: {len(cab_fare_df)}\")"
   ]
  },
  {
   "cell_type": "code",
   "execution_count": 8,
   "id": "ac48dd62-d091-41b4-b3f0-d1cdac25fcc6",
   "metadata": {},
   "outputs": [
    {
     "name": "stdout",
     "output_type": "stream",
     "text": [
      "Length of dataframe after removing erroneous entries: 767314\n"
     ]
    }
   ],
   "source": [
    "#filter erroneous entries for miles, seconds, fare\n",
    "\n",
    "cab_fare_df = cab_fare_df[(cab_fare_df['Trip Seconds']>60) & (cab_fare_df['Trip Miles']>0) & (cab_fare_df['Fare']>0)]\n",
    "print(f\"Length of dataframe after removing erroneous entries: {len(cab_fare_df)}\")\n"
   ]
  },
  {
   "cell_type": "code",
   "execution_count": 9,
   "id": "87a29faf-118f-4b03-bf32-02fa02209afb",
   "metadata": {},
   "outputs": [
    {
     "name": "stdout",
     "output_type": "stream",
     "text": [
      "Percent of Trip Seconds that are outliers: 2.3148%\n",
      "Percent of Trip Miles that are outliers: 0.7134%\n"
     ]
    }
   ],
   "source": [
    "#filter outliers for seconds and miles \n",
    "\n",
    "#define a function to return the low and high thresholds for outliers\n",
    "def find_outliers(df_column):\n",
    "    q1 = df_column.quantile(0.25)\n",
    "    q3 = df_column.quantile(0.75)\n",
    "    iqr = q3 - q1\n",
    "    low = float(q1 - (1.5*iqr))\n",
    "    high = float(q3 + (1.5*iqr))\n",
    "    return low, high\n",
    "\n",
    "#define a function to find the percentage of values in a column that are outliers\n",
    "def find_percent_outliers(df_column):\n",
    "    low, high = find_outliers(df_column)\n",
    "    prop_outliers = 1-(df_column.between(low, high).sum()/len(df_column))\n",
    "    percent_outlier = prop_outliers*100\n",
    "    return percent_outlier\n",
    "\n",
    "print(f\"Percent of Trip Seconds that are outliers: {round(find_percent_outliers(cab_fare_df['Trip Seconds']),4)}%\")\n",
    "print(f\"Percent of Trip Miles that are outliers: {round(find_percent_outliers(cab_fare_df['Trip Miles']),4)}%\")\n",
    "\n",
    "#since %outliers is so low, we can filter out outliers for seconds and miles\n",
    "s_low, s_high = find_outliers(cab_fare_df['Trip Seconds'])\n",
    "cab_fare_df = cab_fare_df[cab_fare_df['Trip Seconds'].between(s_low, s_high)]\n",
    "\n",
    "m_low, m_high = find_outliers(cab_fare_df['Trip Miles'])\n",
    "cab_fare_df = cab_fare_df[cab_fare_df['Trip Miles'].between(m_low, m_high)]\n",
    "\n",
    "    "
   ]
  },
  {
   "cell_type": "code",
   "execution_count": 10,
   "id": "7e5fb173-687b-488b-a0a7-476f11693c9b",
   "metadata": {},
   "outputs": [
    {
     "name": "stdout",
     "output_type": "stream",
     "text": [
      "Percent of fares that are outliers: 0.2431%\n",
      "Percent of extra charges that are outliers: 2.7744%\n",
      "Length of dataframe after filtering outliers: 723010\n"
     ]
    }
   ],
   "source": [
    "#filtering outliers in fare and extras\n",
    "\n",
    "print(f\"Percent of fares that are outliers: {round(find_percent_outliers(cab_fare_df['Fare']),4)}%\")\n",
    "print(f\"Percent of extra charges that are outliers: {round(find_percent_outliers(cab_fare_df['Extras']),4)}%\")\n",
    "\n",
    "#drop these outliers\n",
    "f_low, f_high = find_outliers(cab_fare_df['Fare'])\n",
    "cab_fare_df = cab_fare_df[cab_fare_df['Fare'].between(f_low, f_high)]\n",
    "\n",
    "x_low, x_high = find_outliers(cab_fare_df['Extras'])\n",
    "cab_fare_df = cab_fare_df[cab_fare_df['Extras'].between(x_low, x_high)]\n",
    "\n",
    "print(f\"Length of dataframe after filtering outliers: {len(cab_fare_df)}\")\n"
   ]
  },
  {
   "cell_type": "code",
   "execution_count": null,
   "id": "a6580f87-8bb9-4d2a-8f4b-601f9f14d9d6",
   "metadata": {},
   "outputs": [],
   "source": [
    "#calculating % dropped\n",
    "cleaned_rows = len(cab_fare_df)\n",
    "dropped_rows = initial_rows - cleaned_rows\n",
    "percent_dropped = round(dropped_rows/initial_rows,4)*100\n",
    "print(f\"Initial number of rows: {initial_rows}\")\n",
    "print(f\"Final number of rows after cleaning: {cleaned_rows}\")\n",
    "print(f\"Percent of dataset dropped: {percent_dropped}%\")"
   ]
  },
  {
   "cell_type": "code",
   "execution_count": 11,
   "id": "068c9d0e-193f-4fe3-b99d-b4c3ad71562a",
   "metadata": {},
   "outputs": [],
   "source": [
    "#sum fare and extras columns \n",
    "cab_fare_df['Trip Cost'] = cab_fare_df['Fare'] + cab_fare_df['Extras']"
   ]
  },
  {
   "cell_type": "code",
   "execution_count": 46,
   "id": "c7b36f4d-2ac1-4e51-a569-3ac9561d7646",
   "metadata": {},
   "outputs": [
    {
     "name": "stdout",
     "output_type": "stream",
     "text": [
      "[ 0 23 22 21 20 19 18 17 16 15 14 13 12 11 10  9  8  7  6  5  4  3  2  1]\n"
     ]
    }
   ],
   "source": [
    "#convert pickup timestamp column\n",
    "\n",
    "cab_fare_df['Trip Start Timestamp'] = pd.to_datetime(cab_fare_df['Trip Start Timestamp'], format=\"%m/%d/%Y %I:%M:%S %p\")\n",
    "#cab_fare_df['Trip End Timestamp'] = pd.to_datetime(cab_fare_df['Trip End Timestamp'])\n",
    "\n",
    "#create month column \n",
    "cab_fare_df['Month'] = cab_fare_df['Trip Start Timestamp'].dt.month\n",
    "#print(cab_fare_df['Month'].unique())\n",
    "\n",
    "#create hour column\n",
    "cab_fare_df['Hour'] = cab_fare_df['Trip Start Timestamp'].dt.hour \n",
    "print(cab_fare_df['Hour'].unique())\n"
   ]
  },
  {
   "cell_type": "markdown",
   "id": "a8d8a3cd-f340-4d85-af5b-5807f3a14112",
   "metadata": {},
   "source": [
    "This dataset only contains rides from January-March 2024. The month column, therefore, will not be useful for analysis since not all the months are represented."
   ]
  },
  {
   "cell_type": "code",
   "execution_count": 29,
   "id": "cd390e48-fc95-4012-8fea-c64fe9178094",
   "metadata": {},
   "outputs": [],
   "source": [
    "#bin times into am/pm\n",
    "\n",
    "cab_fare_df['am or pm'] = np.where(cab_fare_df['Hour']>=12, 'pm', 'am').astype(str)"
   ]
  },
  {
   "cell_type": "code",
   "execution_count": 30,
   "id": "bf3289e1-e83e-443a-9f71-0962300d2e6b",
   "metadata": {},
   "outputs": [
    {
     "name": "stdout",
     "output_type": "stream",
     "text": [
      "Trip Start Timestamp          datetime64[ns]\n",
      "Trip End Timestamp                    object\n",
      "Trip Seconds                         float64\n",
      "Trip Miles                           float64\n",
      "Fare                                 float64\n",
      "Extras                               float64\n",
      "Company                               object\n",
      "Pickup Centroid Latitude             float64\n",
      "Pickup Centroid Longitude            float64\n",
      "Dropoff Centroid Latitude            float64\n",
      "Dropoff Centroid Longitude           float64\n",
      "Trip Cost                            float64\n",
      "Month                                  int32\n",
      "Hour                                   int32\n",
      "am or pm                              object\n",
      "dtype: object\n"
     ]
    }
   ],
   "source": [
    "print(cab_fare_df.dtypes)"
   ]
  },
  {
   "cell_type": "code",
   "execution_count": 47,
   "id": "630acd59-a717-41c3-b97f-665526aa148d",
   "metadata": {},
   "outputs": [
    {
     "data": {
      "image/png": "[encoded data removed]",
      "text/plain": [
       "<Figure size 640x480 with 2 Axes>"
      ]
     },
     "metadata": {},
     "output_type": "display_data"
    }
   ],
   "source": [
    "#correlation matrix for numeric variables\n",
    "correlation = cab_fare_df.corr(numeric_only=True)\n",
    "#print(correlation)\n",
    "\n",
    "#heatmap of correlation matrix\n",
    "sns.heatmap(correlation, annot=True, fmt=\".2f\", cmap='coolwarm')\n",
    "plt.title('Correlation for Numeric Variables in Taxi Dataset')\n",
    "plt.show()"
   ]
  },
  {
   "cell_type": "markdown",
   "id": "ea22846f-d3c6-4237-ab9a-39ed6d63dcd8",
   "metadata": {},
   "source": [
    "Looking at the correlation matrix heatmap, the variables most highly associated with the dependent variable, trip cost, are seconds, miles, pickup longitude. Fare and extras are associated with cost because those were the two variables summed to calculate cost. \n",
    "\n",
    "There are very weak associations between trip cost and the pickup month and hour. There is no observed association between cost and dropoff latitude. "
   ]
  },
  {
   "cell_type": "code",
   "execution_count": null,
   "id": "9db2cc84-2921-4bb0-a6ef-be79bf6af771",
   "metadata": {},
   "outputs": [],
   "source": [
    "#view all taxi companies\n",
    "\n",
    "all_companies = cab_fare_df['Company'].unique()\n",
    "print(all_companies, len(all_companies))"
   ]
  },
  {
   "cell_type": "code",
   "execution_count": 13,
   "id": "b61e0eeb-f474-46d3-a137-92fdcb41fd2e",
   "metadata": {},
   "outputs": [
    {
     "name": "stdout",
     "output_type": "stream",
     "text": [
      "The correlation between taxi company and trip cost is 0.12948723294757755\n"
     ]
    }
   ],
   "source": [
    "#target encoding\n",
    "\n",
    "#sample ~20% of dataframe\n",
    "target_sample = cab_fare_df.sample(n=150000, random_state=456)\n",
    "\n",
    "target_mean = target_sample.groupby('Company')['Trip Cost'].mean()\n",
    "target_sample['Company_mean'] = target_sample['Company'].map(target_mean)\n",
    "\n",
    "company_correlation = target_sample['Company_mean'].corr(target_sample['Trip Cost'])\n",
    "print(f\"The correlation between taxi company and trip cost is {company_correlation}\")"
   ]
  },
  {
   "cell_type": "markdown",
   "id": "c7005709-895e-49e9-9b2f-ba78373cd7f4",
   "metadata": {},
   "source": [
    "After target encoding, the correlation between company and cost was only 0.129, which is not very high. Therefore, I feel comfortable not including company as a variable in any further analysis. "
   ]
  },
  {
   "cell_type": "markdown",
   "id": "7a983e01-8750-4505-b740-573b78840869",
   "metadata": {},
   "source": [
    "## Exploratory Data Analysis"
   ]
  },
  {
   "cell_type": "code",
   "execution_count": 49,
   "id": "47cac96e-817b-49a9-88bf-ed54480cd6df",
   "metadata": {},
   "outputs": [
    {
     "name": "stdout",
     "output_type": "stream",
     "text": [
      "Average cost = 22.290428800000004\n"
     ]
    }
   ],
   "source": [
    "#creating sample dataframe for EDA\n",
    "\n",
    "sample = cab_fare_df.sample(n=50000, random_state=123)\n",
    "avg_cost = sample['Trip Cost'].mean()\n",
    "print('Average cost =', avg_cost)"
   ]
  },
  {
   "cell_type": "code",
   "execution_count": null,
   "id": "170c712d-b642-4b63-b0e0-fff894b2e8fc",
   "metadata": {},
   "outputs": [],
   "source": [
    "#boxplots of seconds and miles features\n",
    " \n",
    "fig = make_subplots(rows=1, cols=2, subplot_titles=(\"Seconds\", \"Miles\"))\n",
    "\n",
    "# seconds plot\n",
    "fig.add_trace(\n",
    "    go.Box(y = sample['Trip Seconds'], name=\"Seconds\"), row=1, col=1)\n",
    "\n",
    "# miles\n",
    "fig.add_trace(\n",
    "    go.Box(y = sample['Trip Miles'], name=\"Miles\"), row=1, col=2)\n",
    "\n",
    "fig.update_layout(width=800, height=400, title=\"Plots of Seconds and Miles\") \n",
    "fig.show()\n"
   ]
  },
  {
   "cell_type": "markdown",
   "id": "c2a0bf0a-f6f4-4f11-9723-0a47afd32243",
   "metadata": {},
   "source": [
    "The boxplot of trip time in seconds shows that the median time for trips is 935 seconds, or almost 16 minutes. With the exception of outliers, the longest trip in second is 3159, or almost 53 minutes. \n",
    "\n",
    "The median number of miles for a trip is 3.8 with the majority of trips being less than 28 miles. "
   ]
  },
  {
   "cell_type": "code",
   "execution_count": null,
   "id": "6d476cbc-3b7d-48aa-a2da-ba0efb674933",
   "metadata": {},
   "outputs": [],
   "source": [
    "#histograms of fares, extra charges, and total cost\n",
    "\n",
    "dist = make_subplots(rows=3, cols=1, subplot_titles=(\"Fare\", \"Extras\", \"Total Cost\"))\n",
    "\n",
    "dist.add_trace(\n",
    "    go.Histogram(x=sample[\"Fare\"], name=\"Distribution of Cab Fares\", histnorm=\"percent\",\n",
    "                xbins=dict(start=0, end=70, size=5)), row=1, col=1)\n",
    "\n",
    "dist.add_trace(\n",
    "    go.Histogram(x=sample[\"Extras\"], name=\"Distribution of Extra Charges\", histnorm=\"percent\",\n",
    "                xbins=dict(start=0, end=10, size=1)), row=2, col=1)\n",
    "\n",
    "dist.add_trace(\n",
    "    go.Histogram(x=sample[\"Trip Cost\"], name=\"Distribution of Total Costs\", histnorm=\"percent\",\n",
    "                xbins=dict(start=0, end=80, size=5)), row=3, col=1)\n",
    "\n",
    "dist.update_layout(width=1000, height=800, title=\"Distributions of Fares, Extras, and Totals\") \n",
    "dist.update_yaxes(title_text=\"Percentage\", row=1, col=1)\n",
    "dist.update_yaxes(title_text=\"Percentage\", row=1, col=2)\n",
    "dist.update_yaxes(title_text=\"Percentage\", row=1, col=3)\n",
    "\n",
    "dist.update_xaxes(title_text=\"Fare in USD\", row=1, col=1)\n",
    "dist.update_xaxes(title_text=\"Extra Charges in USD\", row=1, col=2)\n",
    "dist.update_xaxes(title_text=\"Total Cost in USD\", row=1, col=3)\n",
    "\n",
    "dist.show()\n"
   ]
  },
  {
   "cell_type": "markdown",
   "id": "ea209941-877f-4a3e-840e-814a44fb1969",
   "metadata": {},
   "source": [
    "The distributions of fare and total cost line up almost perfectly. This makes sense as total cost is the sum of fare and extras, and most extra charges fall between zero and one dollar. So cost is going to be more determined by fare than by extra charges. "
   ]
  },
  {
   "cell_type": "code",
   "execution_count": null,
   "id": "60e23148-ac4d-455b-9e9a-d55eba9aff03",
   "metadata": {},
   "outputs": [],
   "source": [
    "#scatterplots of miles v cost\n",
    "\n",
    "m_plot = px.scatter(sample, x=sample['Trip Miles'], y=sample['Trip Cost'], trendline='ols', trendline_color_override = 'black',\n",
    "                    render_mode=\"webgl\")\n",
    "m_plot.update_layout(title='Trip Miles vs Trip Cost in USD')\n",
    "m_plot.show()"
   ]
  },
  {
   "cell_type": "markdown",
   "id": "15b0b67a-1499-48b9-bd20-b70242ed7730",
   "metadata": {},
   "source": [
    "This plot shows that there is a positive trend between the lengths of trips and their costs; as the number of miles increases, the cost of the trip also increases. There are also a few vertical outliers closer to the lower end of the number of miles. These shorter trips are more expensive than trips of a similar distance tend to be. This could be due to extra charges or traffic increasing the duration of trip time without increasing the mileage. "
   ]
  },
  {
   "cell_type": "code",
   "execution_count": null,
   "id": "9297f9d5-b4a2-4ec0-b2e5-8c529f6784ee",
   "metadata": {},
   "outputs": [],
   "source": [
    "#scatterplot of seconds v cost\n",
    "\n",
    "s_plot = px.scatter(sample, x=sample['Trip Seconds'], y=sample['Trip Cost'], trendline='ols', trendline_color_override = 'black',\n",
    "                    render_mode=\"webgl\")\n",
    "s_plot.update_layout(title='Trip Seconds vs Trip Cost in USD')\n",
    "s_plot.update_traces(marker=dict(color='green'))\n",
    "s_plot.show()"
   ]
  },
  {
   "cell_type": "markdown",
   "id": "ef239aa1-9b9d-4c50-a2e0-0d8c3203cecb",
   "metadata": {},
   "source": [
    "This plot also shows a positive trend between trip cost and trip time in seconds. There is more scatter in this plot than in the plot of miles. There tends to be a wider range of costs associated with any given trip duration in seconds. "
   ]
  },
  {
   "cell_type": "code",
   "execution_count": null,
   "id": "0f7b08a6-2fe4-49e9-9eef-4627547152b0",
   "metadata": {},
   "outputs": [],
   "source": [
    "#pickup density heatmap \n",
    "\n",
    "hb = plt.hexbin(sample['Pickup Centroid Longitude'], sample['Pickup Centroid Latitude'], gridsize=50, cmap='viridis')\n",
    "plt.close()\n",
    "\n",
    "verts = hb.get_offsets()\n",
    "counts = hb.get_array()\n",
    "\n",
    "fig = go.Figure(go.Scatter(x=verts[:,0], y=verts[:,1], mode='markers', marker=dict(size=10, color=np.log1p(counts),\n",
    "        colorscale='Viridis', showscale=True, colorbar=dict(title=\"Log of Pickup Counts per Location\"))))\n",
    "\n",
    "fig.update_layout(width=1000, height=800, xaxis_title='Longitude', yaxis_title='Latitude', title='Pickup Density')\n",
    "fig.show()"
   ]
  },
  {
   "cell_type": "markdown",
   "id": "7d15253c-a591-4f39-b15b-9c8790dba174",
   "metadata": {},
   "source": [
    "This pickup density grid shows that there are a few locations with higher ratios of pickups. The majority of the latitude/longitude pairs were tracking lower numbers of pickup orders. So much so, that I decided to use the log of the counts to show a little more distinction in pickup density. "
   ]
  },
  {
   "cell_type": "code",
   "execution_count": null,
   "id": "15a5668c-10d8-4744-958b-4a6c3956a1bb",
   "metadata": {},
   "outputs": [],
   "source": [
    "#heatmap of average duration of trip across different hours and distances\n",
    "\n",
    "miles = np.linspace(sample['Trip Miles'].min(), sample['Trip Miles'].max(), 28)\n",
    "sample['Miles_bin'] = pd.cut(sample['Trip Miles'], bins=miles)\n",
    "sample['Miles_bin_center'] = sample['Miles_bin'].apply(lambda x: x.mid)\n",
    "\n",
    "\n",
    "agg = sample.groupby(['Hour', 'Miles_bin_center'],observed=True)['Trip Seconds'].mean().reset_index(name='Avg_Seconds')\n",
    "\n",
    "pivot = agg.pivot(index='Hour', columns='Miles_bin_center', values='Avg_Seconds')\n",
    "t_heatmap = go.Figure(go.Heatmap(z=pivot.values, x=pivot.columns, y=pivot.index, colorscale='Viridis',\n",
    "    colorbar=dict(title='Avg Trip Seconds')))\n",
    "\n",
    "t_heatmap.update_layout(title='Average Trip Seconds by Trip Miles and Hour of Day', xaxis_title='Trip Miles',\n",
    "    yaxis_title='Hour of Day', width=1000, height=600)\n",
    "\n",
    "t_heatmap.show()"
   ]
  },
  {
   "cell_type": "markdown",
   "id": "d78124fb-301d-4a05-a576-940896296c06",
   "metadata": {},
   "source": [
    "This heatmap illustrates the relationship between hour of day, distance of trip, and trip duration in seconds. It depicts logical conclusions like that shorter trips take less time than longer ones, regardless of time of day. Also, trips over 20 miles are rarer, especially in the early mornings. One noteworthy observation is that for trips between 15 and 20 miles, the average time it takes seems to increase from around 7-8am and again from around 3-6pm. This likely corresponds to an increase in morning and evening rush hour traffic. "
   ]
  },
  {
   "cell_type": "code",
   "execution_count": 53,
   "id": "cb9c77bd-5a32-4b62-9aad-8fdfe3f77e0b",
   "metadata": {},
   "outputs": [
    {
     "data": {
      "application/vnd.plotly.v1+json": {
       "config": {
        "plotlyServerURL": "https://plot.ly"
       },
       "data": [
        {
         "alignmentgroup": "True",
         "hovertemplate": "more_than_avg=no<br>Hour=%{x}<br>Number of Trips=%{y}<extra></extra>",
         "legendgroup": "no",
         "marker": {
          "color": "#636efa",
          "pattern": {
           "shape": ""
          }
         },
         "name": "no",
         "offsetgroup": "no",
         "orientation": "v",
         "showlegend": true,
         "textposition": "auto",
         "type": "bar",
         "x": [
          0,
          1,
          2,
          3,
          4,
          5,
          6,
          7,
          8,
          9,
          10,
          11,
          12,
          13,
          14,
          15,
          16,
          17,
          18,
          19,
          20,
          21,
          22,
          23
         ],
         "xaxis": "x",
         "y": [
          343,
          204,
          124,
          97,
          60,
          124,
          437,
          1149,
          1985,
          1974,
          1647,
          1755,
          1841,
          1863,
          1879,
          1910,
          2214,
          2329,
          2095,
          1530,
          979,
          797,
          652,
          465
         ],
         "yaxis": "y"
        },
        {
         "alignmentgroup": "True",
         "hovertemplate": "more_than_avg=yes<br>Hour=%{x}<br>Number of Trips=%{y}<extra></extra>",
         "legendgroup": "yes",
         "marker": {
          "color": "#EF553B",
          "pattern": {
           "shape": ""
          }
         },
         "name": "yes",
         "offsetgroup": "yes",
         "orientation": "v",
         "showlegend": true,
         "textposition": "auto",
         "type": "bar",
         "x": [
          0,
          1,
          2,
          3,
          4,
          5,
          6,
          7,
          8,
          9,
          10,
          11,
          12,
          13,
          14,
          15,
          16,
          17,
          18,
          19,
          20,
          21,
          22,
          23
         ],
         "xaxis": "x",
         "y": [
          405,
          199,
          112,
          109,
          174,
          326,
          512,
          609,
          784,
          1067,
          1195,
          1283,
          1329,
          1381,
          1476,
          1504,
          1295,
          1293,
          1258,
          1526,
          1329,
          925,
          796,
          660
         ],
         "yaxis": "y"
        }
       ],
       "layout": {
        "barmode": "relative",
        "legend": {
         "title": {
          "text": "more_than_avg"
         },
         "tracegroupgap": 0
        },
        "template": {
         "data": {
          "bar": [
           {
            "error_x": {
             "color": "#2a3f5f"
            },
            "error_y": {
             "color": "#2a3f5f"
            },
            "marker": {
             "line": {
              "color": "#E5ECF6",
              "width": 0.5
             },
             "pattern": {
              "fillmode": "overlay",
              "size": 10,
              "solidity": 0.2
             }
            },
            "type": "bar"
           }
          ],
          "barpolar": [
           {
            "marker": {
             "line": {
              "color": "#E5ECF6",
              "width": 0.5
             },
             "pattern": {
              "fillmode": "overlay",
              "size": 10,
              "solidity": 0.2
             }
            },
            "type": "barpolar"
           }
          ],
          "carpet": [
           {
            "aaxis": {
             "endlinecolor": "#2a3f5f",
             "gridcolor": "white",
             "linecolor": "white",
             "minorgridcolor": "white",
             "startlinecolor": "#2a3f5f"
            },
            "baxis": {
             "endlinecolor": "#2a3f5f",
             "gridcolor": "white",
             "linecolor": "white",
             "minorgridcolor": "white",
             "startlinecolor": "#2a3f5f"
            },
            "type": "carpet"
           }
          ],
          "choropleth": [
           {
            "colorbar": {
             "outlinewidth": 0,
             "ticks": ""
            },
            "type": "choropleth"
           }
          ],
          "contour": [
           {
            "colorbar": {
             "outlinewidth": 0,
             "ticks": ""
            },
            "colorscale": [
             [
              0,
              "#0d0887"
             ],
             [
              0.1111111111111111,
              "#46039f"
             ],
             [
              0.2222222222222222,
              "#7201a8"
             ],
             [
              0.3333333333333333,
              "#9c179e"
             ],
             [
              0.4444444444444444,
              "#bd3786"
             ],
             [
              0.5555555555555556,
              "#d8576b"
             ],
             [
              0.6666666666666666,
              "#ed7953"
             ],
             [
              0.7777777777777778,
              "#fb9f3a"
             ],
             [
              0.8888888888888888,
              "#fdca26"
             ],
             [
              1,
              "#f0f921"
             ]
            ],
            "type": "contour"
           }
          ],
          "contourcarpet": [
           {
            "colorbar": {
             "outlinewidth": 0,
             "ticks": ""
            },
            "type": "contourcarpet"
           }
          ],
          "heatmap": [
           {
            "colorbar": {
             "outlinewidth": 0,
             "ticks": ""
            },
            "colorscale": [
             [
              0,
              "#0d0887"
             ],
             [
              0.1111111111111111,
              "#46039f"
             ],
             [
              0.2222222222222222,
              "#7201a8"
             ],
             [
              0.3333333333333333,
              "#9c179e"
             ],
             [
              0.4444444444444444,
              "#bd3786"
             ],
             [
              0.5555555555555556,
              "#d8576b"
             ],
             [
              0.6666666666666666,
              "#ed7953"
             ],
             [
              0.7777777777777778,
              "#fb9f3a"
             ],
             [
              0.8888888888888888,
              "#fdca26"
             ],
             [
              1,
              "#f0f921"
             ]
            ],
            "type": "heatmap"
           }
          ],
          "heatmapgl": [
           {
            "colorbar": {
             "outlinewidth": 0,
             "ticks": ""
            },
            "colorscale": [
             [
              0,
              "#0d0887"
             ],
             [
              0.1111111111111111,
              "#46039f"
             ],
             [
              0.2222222222222222,
              "#7201a8"
             ],
             [
              0.3333333333333333,
              "#9c179e"
             ],
             [
              0.4444444444444444,
              "#bd3786"
             ],
             [
              0.5555555555555556,
              "#d8576b"
             ],
             [
              0.6666666666666666,
              "#ed7953"
             ],
             [
              0.7777777777777778,
              "#fb9f3a"
             ],
             [
              0.8888888888888888,
              "#fdca26"
             ],
             [
              1,
              "#f0f921"
             ]
            ],
            "type": "heatmapgl"
           }
          ],
          "histogram": [
           {
            "marker": {
             "pattern": {
              "fillmode": "overlay",
              "size": 10,
              "solidity": 0.2
             }
            },
            "type": "histogram"
           }
          ],
          "histogram2d": [
           {
            "colorbar": {
             "outlinewidth": 0,
             "ticks": ""
            },
            "colorscale": [
             [
              0,
              "#0d0887"
             ],
             [
              0.1111111111111111,
              "#46039f"
             ],
             [
              0.2222222222222222,
              "#7201a8"
             ],
             [
              0.3333333333333333,
              "#9c179e"
             ],
             [
              0.4444444444444444,
              "#bd3786"
             ],
             [
              0.5555555555555556,
              "#d8576b"
             ],
             [
              0.6666666666666666,
              "#ed7953"
             ],
             [
              0.7777777777777778,
              "#fb9f3a"
             ],
             [
              0.8888888888888888,
              "#fdca26"
             ],
             [
              1,
              "#f0f921"
             ]
            ],
            "type": "histogram2d"
           }
          ],
          "histogram2dcontour": [
           {
            "colorbar": {
             "outlinewidth": 0,
             "ticks": ""
            },
            "colorscale": [
             [
              0,
              "#0d0887"
             ],
             [
              0.1111111111111111,
              "#46039f"
             ],
             [
              0.2222222222222222,
              "#7201a8"
             ],
             [
              0.3333333333333333,
              "#9c179e"
             ],
             [
              0.4444444444444444,
              "#bd3786"
             ],
             [
              0.5555555555555556,
              "#d8576b"
             ],
             [
              0.6666666666666666,
              "#ed7953"
             ],
             [
              0.7777777777777778,
              "#fb9f3a"
             ],
             [
              0.8888888888888888,
              "#fdca26"
             ],
             [
              1,
              "#f0f921"
             ]
            ],
            "type": "histogram2dcontour"
           }
          ],
          "mesh3d": [
           {
            "colorbar": {
             "outlinewidth": 0,
             "ticks": ""
            },
            "type": "mesh3d"
           }
          ],
          "parcoords": [
           {
            "line": {
             "colorbar": {
              "outlinewidth": 0,
              "ticks": ""
             }
            },
            "type": "parcoords"
           }
          ],
          "pie": [
           {
            "automargin": true,
            "type": "pie"
           }
          ],
          "scatter": [
           {
            "fillpattern": {
             "fillmode": "overlay",
             "size": 10,
             "solidity": 0.2
            },
            "type": "scatter"
           }
          ],
          "scatter3d": [
           {
            "line": {
             "colorbar": {
              "outlinewidth": 0,
              "ticks": ""
             }
            },
            "marker": {
             "colorbar": {
              "outlinewidth": 0,
              "ticks": ""
             }
            },
            "type": "scatter3d"
           }
          ],
          "scattercarpet": [
           {
            "marker": {
             "colorbar": {
              "outlinewidth": 0,
              "ticks": ""
             }
            },
            "type": "scattercarpet"
           }
          ],
          "scattergeo": [
           {
            "marker": {
             "colorbar": {
              "outlinewidth": 0,
              "ticks": ""
             }
            },
            "type": "scattergeo"
           }
          ],
          "scattergl": [
           {
            "marker": {
             "colorbar": {
              "outlinewidth": 0,
              "ticks": ""
             }
            },
            "type": "scattergl"
           }
          ],
          "scattermapbox": [
           {
            "marker": {
             "colorbar": {
              "outlinewidth": 0,
              "ticks": ""
             }
            },
            "type": "scattermapbox"
           }
          ],
          "scatterpolar": [
           {
            "marker": {
             "colorbar": {
              "outlinewidth": 0,
              "ticks": ""
             }
            },
            "type": "scatterpolar"
           }
          ],
          "scatterpolargl": [
           {
            "marker": {
             "colorbar": {
              "outlinewidth": 0,
              "ticks": ""
             }
            },
            "type": "scatterpolargl"
           }
          ],
          "scatterternary": [
           {
            "marker": {
             "colorbar": {
              "outlinewidth": 0,
              "ticks": ""
             }
            },
            "type": "scatterternary"
           }
          ],
          "surface": [
           {
            "colorbar": {
             "outlinewidth": 0,
             "ticks": ""
            },
            "colorscale": [
             [
              0,
              "#0d0887"
             ],
             [
              0.1111111111111111,
              "#46039f"
             ],
             [
              0.2222222222222222,
              "#7201a8"
             ],
             [
              0.3333333333333333,
              "#9c179e"
             ],
             [
              0.4444444444444444,
              "#bd3786"
             ],
             [
              0.5555555555555556,
              "#d8576b"
             ],
             [
              0.6666666666666666,
              "#ed7953"
             ],
             [
              0.7777777777777778,
              "#fb9f3a"
             ],
             [
              0.8888888888888888,
              "#fdca26"
             ],
             [
              1,
              "#f0f921"
             ]
            ],
            "type": "surface"
           }
          ],
          "table": [
           {
            "cells": {
             "fill": {
              "color": "#EBF0F8"
             },
             "line": {
              "color": "white"
             }
            },
            "header": {
             "fill": {
              "color": "#C8D4E3"
             },
             "line": {
              "color": "white"
             }
            },
            "type": "table"
           }
          ]
         },
         "layout": {
          "annotationdefaults": {
           "arrowcolor": "#2a3f5f",
           "arrowhead": 0,
           "arrowwidth": 1
          },
          "autotypenumbers": "strict",
          "coloraxis": {
           "colorbar": {
            "outlinewidth": 0,
            "ticks": ""
           }
          },
          "colorscale": {
           "diverging": [
            [
             0,
             "#8e0152"
            ],
            [
             0.1,
             "#c51b7d"
            ],
            [
             0.2,
             "#de77ae"
            ],
            [
             0.3,
             "#f1b6da"
            ],
            [
             0.4,
             "#fde0ef"
            ],
            [
             0.5,
             "#f7f7f7"
            ],
            [
             0.6,
             "#e6f5d0"
            ],
            [
             0.7,
             "#b8e186"
            ],
            [
             0.8,
             "#7fbc41"
            ],
            [
             0.9,
             "#4d9221"
            ],
            [
             1,
             "#276419"
            ]
           ],
           "sequential": [
            [
             0,
             "#0d0887"
            ],
            [
             0.1111111111111111,
             "#46039f"
            ],
            [
             0.2222222222222222,
             "#7201a8"
            ],
            [
             0.3333333333333333,
             "#9c179e"
            ],
            [
             0.4444444444444444,
             "#bd3786"
            ],
            [
             0.5555555555555556,
             "#d8576b"
            ],
            [
             0.6666666666666666,
             "#ed7953"
            ],
            [
             0.7777777777777778,
             "#fb9f3a"
            ],
            [
             0.8888888888888888,
             "#fdca26"
            ],
            [
             1,
             "#f0f921"
            ]
           ],
           "sequentialminus": [
            [
             0,
             "#0d0887"
            ],
            [
             0.1111111111111111,
             "#46039f"
            ],
            [
             0.2222222222222222,
             "#7201a8"
            ],
            [
             0.3333333333333333,
             "#9c179e"
            ],
            [
             0.4444444444444444,
             "#bd3786"
            ],
            [
             0.5555555555555556,
             "#d8576b"
            ],
            [
             0.6666666666666666,
             "#ed7953"
            ],
            [
             0.7777777777777778,
             "#fb9f3a"
            ],
            [
             0.8888888888888888,
             "#fdca26"
            ],
            [
             1,
             "#f0f921"
            ]
           ]
          },
          "colorway": [
           "#636efa",
           "#EF553B",
           "#00cc96",
           "#ab63fa",
           "#FFA15A",
           "#19d3f3",
           "#FF6692",
           "#B6E880",
           "#FF97FF",
           "#FECB52"
          ],
          "font": {
           "color": "#2a3f5f"
          },
          "geo": {
           "bgcolor": "white",
           "lakecolor": "white",
           "landcolor": "#E5ECF6",
           "showlakes": true,
           "showland": true,
           "subunitcolor": "white"
          },
          "hoverlabel": {
           "align": "left"
          },
          "hovermode": "closest",
          "mapbox": {
           "style": "light"
          },
          "paper_bgcolor": "white",
          "plot_bgcolor": "#E5ECF6",
          "polar": {
           "angularaxis": {
            "gridcolor": "white",
            "linecolor": "white",
            "ticks": ""
           },
           "bgcolor": "#E5ECF6",
           "radialaxis": {
            "gridcolor": "white",
            "linecolor": "white",
            "ticks": ""
           }
          },
          "scene": {
           "xaxis": {
            "backgroundcolor": "#E5ECF6",
            "gridcolor": "white",
            "gridwidth": 2,
            "linecolor": "white",
            "showbackground": true,
            "ticks": "",
            "zerolinecolor": "white"
           },
           "yaxis": {
            "backgroundcolor": "#E5ECF6",
            "gridcolor": "white",
            "gridwidth": 2,
            "linecolor": "white",
            "showbackground": true,
            "ticks": "",
            "zerolinecolor": "white"
           },
           "zaxis": {
            "backgroundcolor": "#E5ECF6",
            "gridcolor": "white",
            "gridwidth": 2,
            "linecolor": "white",
            "showbackground": true,
            "ticks": "",
            "zerolinecolor": "white"
           }
          },
          "shapedefaults": {
           "line": {
            "color": "#2a3f5f"
           }
          },
          "ternary": {
           "aaxis": {
            "gridcolor": "white",
            "linecolor": "white",
            "ticks": ""
           },
           "baxis": {
            "gridcolor": "white",
            "linecolor": "white",
            "ticks": ""
           },
           "bgcolor": "#E5ECF6",
           "caxis": {
            "gridcolor": "white",
            "linecolor": "white",
            "ticks": ""
           }
          },
          "title": {
           "x": 0.05
          },
          "xaxis": {
           "automargin": true,
           "gridcolor": "white",
           "linecolor": "white",
           "ticks": "",
           "title": {
            "standoff": 15
           },
           "zerolinecolor": "white",
           "zerolinewidth": 2
          },
          "yaxis": {
           "automargin": true,
           "gridcolor": "white",
           "linecolor": "white",
           "ticks": "",
           "title": {
            "standoff": 15
           },
           "zerolinecolor": "white",
           "zerolinewidth": 2
          }
         }
        },
        "title": {
         "text": "Hourly Trips by Avg Costs"
        },
        "xaxis": {
         "anchor": "y",
         "domain": [
          0,
          1
         ],
         "title": {
          "text": "Hour"
         }
        },
        "yaxis": {
         "anchor": "x",
         "domain": [
          0,
          1
         ],
         "title": {
          "text": "Number of Trips"
         }
        }
       }
      },
      "image/png": "[encoded data removed]",
      "text/html": [
       "<div>                            <div id=\"c5b6a88e-55b1-4148-a8c6-2c4ef08f11cd\" class=\"plotly-graph-div\" style=\"height:525px; width:100%;\"></div>            <script type=\"text/javascript\">                require([\"plotly\"], function(Plotly) {                    window.PLOTLYENV=window.PLOTLYENV || {};                                    if (document.getElementById(\"c5b6a88e-55b1-4148-a8c6-2c4ef08f11cd\")) {                    Plotly.newPlot(                        \"c5b6a88e-55b1-4148-a8c6-2c4ef08f11cd\",                        [{\"alignmentgroup\":\"True\",\"hovertemplate\":\"more_than_avg=no\\u003cbr\\u003eHour=%{x}\\u003cbr\\u003eNumber of Trips=%{y}\\u003cextra\\u003e\\u003c\\u002fextra\\u003e\",\"legendgroup\":\"no\",\"marker\":{\"color\":\"#636efa\",\"pattern\":{\"shape\":\"\"}},\"name\":\"no\",\"offsetgroup\":\"no\",\"orientation\":\"v\",\"showlegend\":true,\"textposition\":\"auto\",\"x\":[0,1,2,3,4,5,6,7,8,9,10,11,12,13,14,15,16,17,18,19,20,21,22,23],\"xaxis\":\"x\",\"y\":[343,204,124,97,60,124,437,1149,1985,1974,1647,1755,1841,1863,1879,1910,2214,2329,2095,1530,979,797,652,465],\"yaxis\":\"y\",\"type\":\"bar\"},{\"alignmentgroup\":\"True\",\"hovertemplate\":\"more_than_avg=yes\\u003cbr\\u003eHour=%{x}\\u003cbr\\u003eNumber of Trips=%{y}\\u003cextra\\u003e\\u003c\\u002fextra\\u003e\",\"legendgroup\":\"yes\",\"marker\":{\"color\":\"#EF553B\",\"pattern\":{\"shape\":\"\"}},\"name\":\"yes\",\"offsetgroup\":\"yes\",\"orientation\":\"v\",\"showlegend\":true,\"textposition\":\"auto\",\"x\":[0,1,2,3,4,5,6,7,8,9,10,11,12,13,14,15,16,17,18,19,20,21,22,23],\"xaxis\":\"x\",\"y\":[405,199,112,109,174,326,512,609,784,1067,1195,1283,1329,1381,1476,1504,1295,1293,1258,1526,1329,925,796,660],\"yaxis\":\"y\",\"type\":\"bar\"}],                        {\"template\":{\"data\":{\"histogram2dcontour\":[{\"type\":\"histogram2dcontour\",\"colorbar\":{\"outlinewidth\":0,\"ticks\":\"\"},\"colorscale\":[[0.0,\"#0d0887\"],[0.1111111111111111,\"#46039f\"],[0.2222222222222222,\"#7201a8\"],[0.3333333333333333,\"#9c179e\"],[0.4444444444444444,\"#bd3786\"],[0.5555555555555556,\"#d8576b\"],[0.6666666666666666,\"#ed7953\"],[0.7777777777777778,\"#fb9f3a\"],[0.8888888888888888,\"#fdca26\"],[1.0,\"#f0f921\"]]}],\"choropleth\":[{\"type\":\"choropleth\",\"colorbar\":{\"outlinewidth\":0,\"ticks\":\"\"}}],\"histogram2d\":[{\"type\":\"histogram2d\",\"colorbar\":{\"outlinewidth\":0,\"ticks\":\"\"},\"colorscale\":[[0.0,\"#0d0887\"],[0.1111111111111111,\"#46039f\"],[0.2222222222222222,\"#7201a8\"],[0.3333333333333333,\"#9c179e\"],[0.4444444444444444,\"#bd3786\"],[0.5555555555555556,\"#d8576b\"],[0.6666666666666666,\"#ed7953\"],[0.7777777777777778,\"#fb9f3a\"],[0.8888888888888888,\"#fdca26\"],[1.0,\"#f0f921\"]]}],\"heatmap\":[{\"type\":\"heatmap\",\"colorbar\":{\"outlinewidth\":0,\"ticks\":\"\"},\"colorscale\":[[0.0,\"#0d0887\"],[0.1111111111111111,\"#46039f\"],[0.2222222222222222,\"#7201a8\"],[0.3333333333333333,\"#9c179e\"],[0.4444444444444444,\"#bd3786\"],[0.5555555555555556,\"#d8576b\"],[0.6666666666666666,\"#ed7953\"],[0.7777777777777778,\"#fb9f3a\"],[0.8888888888888888,\"#fdca26\"],[1.0,\"#f0f921\"]]}],\"heatmapgl\":[{\"type\":\"heatmapgl\",\"colorbar\":{\"outlinewidth\":0,\"ticks\":\"\"},\"colorscale\":[[0.0,\"#0d0887\"],[0.1111111111111111,\"#46039f\"],[0.2222222222222222,\"#7201a8\"],[0.3333333333333333,\"#9c179e\"],[0.4444444444444444,\"#bd3786\"],[0.5555555555555556,\"#d8576b\"],[0.6666666666666666,\"#ed7953\"],[0.7777777777777778,\"#fb9f3a\"],[0.8888888888888888,\"#fdca26\"],[1.0,\"#f0f921\"]]}],\"contourcarpet\":[{\"type\":\"contourcarpet\",\"colorbar\":{\"outlinewidth\":0,\"ticks\":\"\"}}],\"contour\":[{\"type\":\"contour\",\"colorbar\":{\"outlinewidth\":0,\"ticks\":\"\"},\"colorscale\":[[0.0,\"#0d0887\"],[0.1111111111111111,\"#46039f\"],[0.2222222222222222,\"#7201a8\"],[0.3333333333333333,\"#9c179e\"],[0.4444444444444444,\"#bd3786\"],[0.5555555555555556,\"#d8576b\"],[0.6666666666666666,\"#ed7953\"],[0.7777777777777778,\"#fb9f3a\"],[0.8888888888888888,\"#fdca26\"],[1.0,\"#f0f921\"]]}],\"surface\":[{\"type\":\"surface\",\"colorbar\":{\"outlinewidth\":0,\"ticks\":\"\"},\"colorscale\":[[0.0,\"#0d0887\"],[0.1111111111111111,\"#46039f\"],[0.2222222222222222,\"#7201a8\"],[0.3333333333333333,\"#9c179e\"],[0.4444444444444444,\"#bd3786\"],[0.5555555555555556,\"#d8576b\"],[0.6666666666666666,\"#ed7953\"],[0.7777777777777778,\"#fb9f3a\"],[0.8888888888888888,\"#fdca26\"],[1.0,\"#f0f921\"]]}],\"mesh3d\":[{\"type\":\"mesh3d\",\"colorbar\":{\"outlinewidth\":0,\"ticks\":\"\"}}],\"scatter\":[{\"fillpattern\":{\"fillmode\":\"overlay\",\"size\":10,\"solidity\":0.2},\"type\":\"scatter\"}],\"parcoords\":[{\"type\":\"parcoords\",\"line\":{\"colorbar\":{\"outlinewidth\":0,\"ticks\":\"\"}}}],\"scatterpolargl\":[{\"type\":\"scatterpolargl\",\"marker\":{\"colorbar\":{\"outlinewidth\":0,\"ticks\":\"\"}}}],\"bar\":[{\"error_x\":{\"color\":\"#2a3f5f\"},\"error_y\":{\"color\":\"#2a3f5f\"},\"marker\":{\"line\":{\"color\":\"#E5ECF6\",\"width\":0.5},\"pattern\":{\"fillmode\":\"overlay\",\"size\":10,\"solidity\":0.2}},\"type\":\"bar\"}],\"scattergeo\":[{\"type\":\"scattergeo\",\"marker\":{\"colorbar\":{\"outlinewidth\":0,\"ticks\":\"\"}}}],\"scatterpolar\":[{\"type\":\"scatterpolar\",\"marker\":{\"colorbar\":{\"outlinewidth\":0,\"ticks\":\"\"}}}],\"histogram\":[{\"marker\":{\"pattern\":{\"fillmode\":\"overlay\",\"size\":10,\"solidity\":0.2}},\"type\":\"histogram\"}],\"scattergl\":[{\"type\":\"scattergl\",\"marker\":{\"colorbar\":{\"outlinewidth\":0,\"ticks\":\"\"}}}],\"scatter3d\":[{\"type\":\"scatter3d\",\"line\":{\"colorbar\":{\"outlinewidth\":0,\"ticks\":\"\"}},\"marker\":{\"colorbar\":{\"outlinewidth\":0,\"ticks\":\"\"}}}],\"scattermapbox\":[{\"type\":\"scattermapbox\",\"marker\":{\"colorbar\":{\"outlinewidth\":0,\"ticks\":\"\"}}}],\"scatterternary\":[{\"type\":\"scatterternary\",\"marker\":{\"colorbar\":{\"outlinewidth\":0,\"ticks\":\"\"}}}],\"scattercarpet\":[{\"type\":\"scattercarpet\",\"marker\":{\"colorbar\":{\"outlinewidth\":0,\"ticks\":\"\"}}}],\"carpet\":[{\"aaxis\":{\"endlinecolor\":\"#2a3f5f\",\"gridcolor\":\"white\",\"linecolor\":\"white\",\"minorgridcolor\":\"white\",\"startlinecolor\":\"#2a3f5f\"},\"baxis\":{\"endlinecolor\":\"#2a3f5f\",\"gridcolor\":\"white\",\"linecolor\":\"white\",\"minorgridcolor\":\"white\",\"startlinecolor\":\"#2a3f5f\"},\"type\":\"carpet\"}],\"table\":[{\"cells\":{\"fill\":{\"color\":\"#EBF0F8\"},\"line\":{\"color\":\"white\"}},\"header\":{\"fill\":{\"color\":\"#C8D4E3\"},\"line\":{\"color\":\"white\"}},\"type\":\"table\"}],\"barpolar\":[{\"marker\":{\"line\":{\"color\":\"#E5ECF6\",\"width\":0.5},\"pattern\":{\"fillmode\":\"overlay\",\"size\":10,\"solidity\":0.2}},\"type\":\"barpolar\"}],\"pie\":[{\"automargin\":true,\"type\":\"pie\"}]},\"layout\":{\"autotypenumbers\":\"strict\",\"colorway\":[\"#636efa\",\"#EF553B\",\"#00cc96\",\"#ab63fa\",\"#FFA15A\",\"#19d3f3\",\"#FF6692\",\"#B6E880\",\"#FF97FF\",\"#FECB52\"],\"font\":{\"color\":\"#2a3f5f\"},\"hovermode\":\"closest\",\"hoverlabel\":{\"align\":\"left\"},\"paper_bgcolor\":\"white\",\"plot_bgcolor\":\"#E5ECF6\",\"polar\":{\"bgcolor\":\"#E5ECF6\",\"angularaxis\":{\"gridcolor\":\"white\",\"linecolor\":\"white\",\"ticks\":\"\"},\"radialaxis\":{\"gridcolor\":\"white\",\"linecolor\":\"white\",\"ticks\":\"\"}},\"ternary\":{\"bgcolor\":\"#E5ECF6\",\"aaxis\":{\"gridcolor\":\"white\",\"linecolor\":\"white\",\"ticks\":\"\"},\"baxis\":{\"gridcolor\":\"white\",\"linecolor\":\"white\",\"ticks\":\"\"},\"caxis\":{\"gridcolor\":\"white\",\"linecolor\":\"white\",\"ticks\":\"\"}},\"coloraxis\":{\"colorbar\":{\"outlinewidth\":0,\"ticks\":\"\"}},\"colorscale\":{\"sequential\":[[0.0,\"#0d0887\"],[0.1111111111111111,\"#46039f\"],[0.2222222222222222,\"#7201a8\"],[0.3333333333333333,\"#9c179e\"],[0.4444444444444444,\"#bd3786\"],[0.5555555555555556,\"#d8576b\"],[0.6666666666666666,\"#ed7953\"],[0.7777777777777778,\"#fb9f3a\"],[0.8888888888888888,\"#fdca26\"],[1.0,\"#f0f921\"]],\"sequentialminus\":[[0.0,\"#0d0887\"],[0.1111111111111111,\"#46039f\"],[0.2222222222222222,\"#7201a8\"],[0.3333333333333333,\"#9c179e\"],[0.4444444444444444,\"#bd3786\"],[0.5555555555555556,\"#d8576b\"],[0.6666666666666666,\"#ed7953\"],[0.7777777777777778,\"#fb9f3a\"],[0.8888888888888888,\"#fdca26\"],[1.0,\"#f0f921\"]],\"diverging\":[[0,\"#8e0152\"],[0.1,\"#c51b7d\"],[0.2,\"#de77ae\"],[0.3,\"#f1b6da\"],[0.4,\"#fde0ef\"],[0.5,\"#f7f7f7\"],[0.6,\"#e6f5d0\"],[0.7,\"#b8e186\"],[0.8,\"#7fbc41\"],[0.9,\"#4d9221\"],[1,\"#276419\"]]},\"xaxis\":{\"gridcolor\":\"white\",\"linecolor\":\"white\",\"ticks\":\"\",\"title\":{\"standoff\":15},\"zerolinecolor\":\"white\",\"automargin\":true,\"zerolinewidth\":2},\"yaxis\":{\"gridcolor\":\"white\",\"linecolor\":\"white\",\"ticks\":\"\",\"title\":{\"standoff\":15},\"zerolinecolor\":\"white\",\"automargin\":true,\"zerolinewidth\":2},\"scene\":{\"xaxis\":{\"backgroundcolor\":\"#E5ECF6\",\"gridcolor\":\"white\",\"linecolor\":\"white\",\"showbackground\":true,\"ticks\":\"\",\"zerolinecolor\":\"white\",\"gridwidth\":2},\"yaxis\":{\"backgroundcolor\":\"#E5ECF6\",\"gridcolor\":\"white\",\"linecolor\":\"white\",\"showbackground\":true,\"ticks\":\"\",\"zerolinecolor\":\"white\",\"gridwidth\":2},\"zaxis\":{\"backgroundcolor\":\"#E5ECF6\",\"gridcolor\":\"white\",\"linecolor\":\"white\",\"showbackground\":true,\"ticks\":\"\",\"zerolinecolor\":\"white\",\"gridwidth\":2}},\"shapedefaults\":{\"line\":{\"color\":\"#2a3f5f\"}},\"annotationdefaults\":{\"arrowcolor\":\"#2a3f5f\",\"arrowhead\":0,\"arrowwidth\":1},\"geo\":{\"bgcolor\":\"white\",\"landcolor\":\"#E5ECF6\",\"subunitcolor\":\"white\",\"showland\":true,\"showlakes\":true,\"lakecolor\":\"white\"},\"title\":{\"x\":0.05},\"mapbox\":{\"style\":\"light\"}}},\"xaxis\":{\"anchor\":\"y\",\"domain\":[0.0,1.0],\"title\":{\"text\":\"Hour\"}},\"yaxis\":{\"anchor\":\"x\",\"domain\":[0.0,1.0],\"title\":{\"text\":\"Number of Trips\"}},\"legend\":{\"title\":{\"text\":\"more_than_avg\"},\"tracegroupgap\":0},\"title\":{\"text\":\"Hourly Trips by Avg Costs\"},\"barmode\":\"relative\"},                        {\"responsive\": true}                    ).then(function(){\n",
       "                            \n",
       "var gd = document.getElementById('c5b6a88e-55b1-4148-a8c6-2c4ef08f11cd');\n",
       "var x = new MutationObserver(function (mutations, observer) {{\n",
       "        var display = window.getComputedStyle(gd).display;\n",
       "        if (!display || display === 'none') {{\n",
       "            console.log([gd, 'removed!']);\n",
       "            Plotly.purge(gd);\n",
       "            observer.disconnect();\n",
       "        }}\n",
       "}});\n",
       "\n",
       "// Listen for the removal of the full notebook cells\n",
       "var notebookContainer = gd.closest('#notebook-container');\n",
       "if (notebookContainer) {{\n",
       "    x.observe(notebookContainer, {childList: true});\n",
       "}}\n",
       "\n",
       "// Listen for the clearing of the current output cell\n",
       "var outputEl = gd.closest('.output');\n",
       "if (outputEl) {{\n",
       "    x.observe(outputEl, {childList: true});\n",
       "}}\n",
       "\n",
       "                        })                };                });            </script>        </div>"
      ]
     },
     "metadata": {},
     "output_type": "display_data"
    }
   ],
   "source": [
    "#stacked bar of hour vs avg cost\n",
    "\n",
    "#bin cost\n",
    "sample['more_than_avg'] = np.where(sample['Trip Cost']>avg_cost, 'yes', 'no')\n",
    "\n",
    "grouped = (sample.groupby(['Hour', 'more_than_avg'], observed=True).size().reset_index(name='Number of Trips'))\n",
    "\n",
    "bar = px.bar(grouped, x='Hour', y='Number of Trips', color='more_than_avg', title=\"Hourly Trips by Avg Costs\")\n",
    "bar.show()"
   ]
  },
  {
   "cell_type": "markdown",
   "id": "5e1fbebf-4d42-453c-a1b5-c13f08ecccdb",
   "metadata": {},
   "source": [
    "This bar chart shows whether trip costs tend to fall above or below overall average cost based on time of day. From 8pm - 12am and then again from 5-6am, more trips cost more than the sample average of $22.29 than not. From 7am until 8pm, the numbers of trips increased and the ratio of more expensive to less expensive becomes more favorable. "
   ]
  }
 ],
 "metadata": {
  "kernelspec": {
   "display_name": "Python [conda env:base] *",
   "language": "python",
   "name": "conda-base-py"
  },
  "language_info": {
   "codemirror_mode": {
    "name": "ipython",
    "version": 3
   },
   "file_extension": ".py",
   "mimetype": "text/x-python",
   "name": "python",
   "nbconvert_exporter": "python",
   "pygments_lexer": "ipython3",
   "version": "3.13.5"
  }
 },
 "nbformat": 4,
 "nbformat_minor": 5
}
